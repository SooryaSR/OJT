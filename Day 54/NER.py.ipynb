{
 "cells": [
  {
   "cell_type": "code",
   "execution_count": 1,
   "id": "e36ee0a7",
   "metadata": {},
   "outputs": [],
   "source": [
    "import re\n",
    "import nltk\n",
    "from nltk.tokenize import word_tokenize"
   ]
  },
  {
   "cell_type": "code",
   "execution_count": 2,
   "id": "51cf86ff",
   "metadata": {},
   "outputs": [],
   "source": [
    "text= \"Elon Musk is the CEO of the Boring Company, He lives in USA\""
   ]
  },
  {
   "cell_type": "code",
   "execution_count": 3,
   "id": "ff0d39c0",
   "metadata": {},
   "outputs": [],
   "source": [
    "person_lexicon = {\"Elon Musk\",\"Soorya\",\"Steve Harrington\"}\n",
    "organization_lexicon = {\"OpenAI\",\"X\",\"Microsoft\"}\n",
    "locatiob_lexicon = {\"USA\",\"Russia\",\"India\"}"
   ]
  },
  {
   "cell_type": "code",
   "execution_count": 8,
   "id": "ab86e5b4",
   "metadata": {},
   "outputs": [
    {
     "name": "stdout",
     "output_type": "stream",
     "text": [
      "Lexicon_based NER:\n",
      "<function lexicon_based_ner at 0x000002117AFBEC00>\n"
     ]
    }
   ],
   "source": [
    "def lexicon_based_ner(text):\n",
    "    entities = []\n",
    "    tokens = word_tokenize(text)\n",
    "    for token in tokens:\n",
    "        if token in person_lexicon:\n",
    "            entities.append((token, \"PERSON\"))\n",
    "        elif token in organisation_lexicon:\n",
    "            entities.append((token, \"ORG\"))\n",
    "        elif token in location_lexicon:\n",
    "            entities.append((token, \"LOC\"))\n",
    "    return entities\n",
    "\n",
    "print(\"Lexicon_based NER:\")\n",
    "print(lexicon_based_ner)\n",
    "            \n",
    "        "
   ]
  },
  {
   "cell_type": "code",
   "execution_count": null,
   "id": "627e4ae5",
   "metadata": {},
   "outputs": [],
   "source": []
  }
 ],
 "metadata": {
  "kernelspec": {
   "display_name": "Python 3 (ipykernel)",
   "language": "python",
   "name": "python3"
  },
  "language_info": {
   "codemirror_mode": {
    "name": "ipython",
    "version": 3
   },
   "file_extension": ".py",
   "mimetype": "text/x-python",
   "name": "python",
   "nbconvert_exporter": "python",
   "pygments_lexer": "ipython3",
   "version": "3.11.5"
  }
 },
 "nbformat": 4,
 "nbformat_minor": 5
}
