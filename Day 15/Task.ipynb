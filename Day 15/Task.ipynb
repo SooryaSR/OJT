{
 "cells": [
  {
   "cell_type": "code",
   "execution_count": 9,
   "id": "72490e0b",
   "metadata": {},
   "outputs": [
    {
     "name": "stdout",
     "output_type": "stream",
     "text": [
      "Original array: [100   2   3   4   5]\n",
      "Copied array: [1 2 3 4 5]\n"
     ]
    }
   ],
   "source": [
    "# 1. Make a copy, change the original array, and display both arrays\n",
    "\n",
    "import numpy as np\n",
    "\n",
    "arr = np.array([1, 2, 3, 4, 5])\n",
    "\n",
    "#copy of array\n",
    "copied_arr = arr.copy()\n",
    "\n",
    "# Modify the original array\n",
    "arr[0] = 100\n",
    "\n",
    "print(\"Original array:\", arr)\n",
    "print(\"Copied array:\", copied_arr)\n",
    "\n",
    "     "
   ]
  },
  {
   "cell_type": "code",
   "execution_count": 6,
   "id": "d9a1c7bf",
   "metadata": {},
   "outputs": [
    {
     "name": "stdout",
     "output_type": "stream",
     "text": [
      "Original array: [100   2   3   4   5]\n",
      "View of the array: [100   2   3   4   5]\n"
     ]
    }
   ],
   "source": [
    "# 2. Make a view, change the original array, and display both arrays\n",
    "\n",
    "import numpy as np\n",
    "\n",
    "arr = np.array([1, 2, 3, 4, 5])\n",
    "\n",
    "#view of the array\n",
    "view_arr = arr.view()\n",
    "\n",
    "# Modify the original array\n",
    "arr[0] = 100\n",
    "\n",
    "print(\"Original array:\", arr)\n",
    "print(\"View of the array:\", view_arr)\n"
   ]
  },
  {
   "cell_type": "code",
   "execution_count": 7,
   "id": "f20e8318",
   "metadata": {},
   "outputs": [
    {
     "name": "stdout",
     "output_type": "stream",
     "text": [
      "Original array: [200   2   3   4   5]\n",
      "View of the array: [200   2   3   4   5]\n"
     ]
    }
   ],
   "source": [
    " # 3. Make a view, change the view, and display both arrays\n",
    "    \n",
    "import numpy as np\n",
    "\n",
    "arr = np.array([1, 2, 3, 4, 5])\n",
    "\n",
    "#view of the array\n",
    "view_arr = arr.view()\n",
    "\n",
    "# Modify the view\n",
    "view_arr[0] = 200\n",
    "\n",
    "print(\"Original array:\", arr)\n",
    "print(\"View of the array:\", view_arr)\n"
   ]
  },
  {
   "cell_type": "code",
   "execution_count": 8,
   "id": "dbe00ca6",
   "metadata": {},
   "outputs": [
    {
     "name": "stdout",
     "output_type": "stream",
     "text": [
      "Original array base: None\n",
      "View of array base: [1 2 3 4 5]\n"
     ]
    }
   ],
   "source": [
    "# 4. Print the value of the base attribute to check if an array owns it's data or not\n",
    "\n",
    "import numpy as np\n",
    "\n",
    "arr = np.array([1, 2, 3, 4, 5])\n",
    "\n",
    "# Check the base attribute.\n",
    "print(\"Original array base:\", arr.base)\n",
    "\n",
    "#view of the array\n",
    "view_arr = arr.view()\n",
    "\n",
    "print(\"View of array base:\", view_arr.base)\n"
   ]
  },
  {
   "cell_type": "code",
   "execution_count": null,
   "id": "819b5a9e",
   "metadata": {},
   "outputs": [],
   "source": []
  }
 ],
 "metadata": {
  "kernelspec": {
   "display_name": "Python 3 (ipykernel)",
   "language": "python",
   "name": "python3"
  },
  "language_info": {
   "codemirror_mode": {
    "name": "ipython",
    "version": 3
   },
   "file_extension": ".py",
   "mimetype": "text/x-python",
   "name": "python",
   "nbconvert_exporter": "python",
   "pygments_lexer": "ipython3",
   "version": "3.11.5"
  }
 },
 "nbformat": 4,
 "nbformat_minor": 5
}
